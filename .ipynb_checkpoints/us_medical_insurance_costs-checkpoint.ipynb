{
 "cells": [
  {
   "cell_type": "markdown",
   "metadata": {},
   "source": [
    "# U.S. Medical Insurance Costs"
   ]
  },
  {
   "cell_type": "markdown",
   "metadata": {},
   "source": [
    "Initial questions:\n",
    "Correlation between region and other attributes (especially age and bmi?)"
   ]
  },
  {
   "cell_type": "markdown",
   "metadata": {},
   "source": [
    "### Scope:\n",
    "#### Goal: Show how region affects other variables, especially age, bmi and total costs\n",
    "#### Action: Provide a basis for examining spatial patterns that could show disparities in how medical hardship is experienced. That geographic patterns exist is just a conjecture. This is meant to be an exercise in exploring the potential of a dataset in preparation for learning more advanced quantitative analysis techniques.\n",
    "#### Data: Codecademy-provided dataset\n",
    "#### Analysis: Simple averages and counts of data, along with one basic correlation between two continuous variables"
   ]
  },
  {
   "cell_type": "code",
   "execution_count": 178,
   "metadata": {},
   "outputs": [],
   "source": [
    "import csv\n",
    "import os\n",
    "import numpy as np"
   ]
  },
  {
   "cell_type": "code",
   "execution_count": 11,
   "metadata": {},
   "outputs": [
    {
     "name": "stdout",
     "output_type": "stream",
     "text": [
      "C:\\Users\\User1\\Desktop\\python_projects\\python-portfolio-project-starter-files\\python-portfolio-project-starter-files\n"
     ]
    }
   ],
   "source": [
    "# was trying to figure out how much of the file path I needed to use to open the file\n",
    "print(os.getcwd())"
   ]
  },
  {
   "cell_type": "markdown",
   "metadata": {},
   "source": [
    "The basic structure of unpacking the CSV into lists is borrowed from Codecademy's sample solution code. "
   ]
  },
  {
   "cell_type": "code",
   "execution_count": 28,
   "metadata": {},
   "outputs": [],
   "source": [
    "# lists for data organization purposes\n",
    "ages = []\n",
    "sexes = []\n",
    "bmis = []\n",
    "num_children = []\n",
    "smoker_status = []\n",
    "regions = []\n",
    "insurance_charges = []"
   ]
  },
  {
   "cell_type": "code",
   "execution_count": 26,
   "metadata": {},
   "outputs": [],
   "source": [
    "# populates a list with data from its corresponding column\n",
    "def load_list_data(lst, csv_file, column_name):\n",
    "    with open(csv_file) as csv_info:\n",
    "        csv_reader = csv.DictReader(csv_info)\n",
    "        for row in csv_reader:\n",
    "            lst.append(row[column_name])\n",
    "        return lst"
   ]
  },
  {
   "cell_type": "code",
   "execution_count": null,
   "metadata": {
    "scrolled": true
   },
   "outputs": [],
   "source": [
    "# load each column from the CSV into a list\n",
    "load_list_data(ages, 'insurance.csv', 'age')\n",
    "load_list_data(sexes, 'insurance.csv', 'sex')\n",
    "load_list_data(bmis, 'insurance.csv', 'bmi')\n",
    "load_list_data(num_children, 'insurance.csv', 'children')\n",
    "load_list_data(smoker_status, 'insurance.csv', 'smoker')\n",
    "load_list_data(regions, 'insurance.csv', 'region')\n",
    "load_list_data(insurance_charges, 'insurance.csv', 'charges')"
   ]
  },
  {
   "cell_type": "markdown",
   "metadata": {},
   "source": [
    "Further down my first attempt at implementing the PatientsInfo class was in the same way that Codecademy does: by initiatizing the object with the lists created above. Directly below I use an alternative method for unpacking the CSV to a single dictionary of lists instead of multiple lists, and an alternative implementation of PatientsInfo that takes the dictionary for initialization"
   ]
  },
  {
   "cell_type": "code",
   "execution_count": 196,
   "metadata": {},
   "outputs": [],
   "source": [
    "# a function that automates loading the data columns into lists without having to call load_list_data() multiple times\n",
    "def load_csv_to_dict(csv_file):\n",
    "    master_dict = {}\n",
    "    with open(csv_file) as csv_info:\n",
    "        csv_reader = csv.DictReader(csv_info)\n",
    "        for column in csv_reader.fieldnames:\n",
    "            csv_info.seek(0)\n",
    "            master_dict[column] = []\n",
    "            csv_reader.__next__()\n",
    "            for row in csv_reader:\n",
    "                master_dict[column].append(row[column])\n",
    "    return master_dict\n",
    "                "
   ]
  },
  {
   "cell_type": "code",
   "execution_count": null,
   "metadata": {},
   "outputs": [],
   "source": [
    "# test load_csv_to_dict()\n",
    "load_csv_to_dict('insurance.csv')"
   ]
  },
  {
   "cell_type": "code",
   "execution_count": 190,
   "metadata": {},
   "outputs": [],
   "source": [
    "# an alternative implementation of PatientsInfo to accept the dictionary of lists instead of individual lists:\n",
    "class PatientsInfoDict:\n",
    "    \n",
    "    def __init__(self, patient_dict):\n",
    "        self.patient_ages = patient_dict['age']\n",
    "        self.patient_sexes = patient_dict['sex']\n",
    "        self.patient_bmis = patient_dict['bmi']\n",
    "        self.patient_children = patient_dict['children']\n",
    "        self.patient_smoker = patient_dict['smoker']\n",
    "        self.patient_region = patient_dict['region']\n",
    "        self.patient_charges = patient_dict['charges']\n",
    "        \n",
    "# other functions are identical"
   ]
  },
  {
   "cell_type": "code",
   "execution_count": 198,
   "metadata": {},
   "outputs": [
    {
     "name": "stdout",
     "output_type": "stream",
     "text": [
      "['19', '18', '28', '33', '32']\n"
     ]
    }
   ],
   "source": [
    "# test PatientsInfoDict class:\n",
    "patient_dict = load_csv_to_dict('insurance.csv')\n",
    "patient_info_dict = PatientsInfoDict(patient_dict)\n",
    "print(patient_info_dict.patient_ages[:5])"
   ]
  },
  {
   "cell_type": "markdown",
   "metadata": {},
   "source": [
    "I'm just learning basic statistics, including correlations. Below I calculate a Pearson Correlation using NumPy's numpy.corrcoef() function for ages and insurance charges across the entire dataset as a test for implementing it later for each geographic region in the PatientsInfo class. "
   ]
  },
  {
   "cell_type": "code",
   "execution_count": 141,
   "metadata": {},
   "outputs": [
    {
     "name": "stdout",
     "output_type": "stream",
     "text": [
      "[[1.         0.29900819]\n",
      " [0.29900819 1.        ]]\n"
     ]
    }
   ],
   "source": [
    "# test space for calculating Pearson Correlation\n",
    "# convert numerical values to int and float\n",
    "age_list = [int(age) for age in ages]\n",
    "charge_list = [float(charge) for charge in insurance_charges]\n",
    "# make numpy arrays\n",
    "age_array = np.array(age_list)\n",
    "charges_array = np.array(charge_list)\n",
    "# calculate correlation coefficient\n",
    "rho = np.corrcoef(age_array, charges_array)\n",
    "print(rho)"
   ]
  },
  {
   "cell_type": "markdown",
   "metadata": {},
   "source": [
    "The PatientsInfo class contains methods that calculate averages for each region in the dataset. This allows a comparison to see if there are significant discrepancies between regions. This implementation uses the \"conventional\" Codecademy method of initializing the object with individual lists for each attribute."
   ]
  },
  {
   "cell_type": "code",
   "execution_count": 175,
   "metadata": {},
   "outputs": [],
   "source": [
    "class PatientsInfo:\n",
    "    def __init__(self, patient_ages, patient_sexes, patient_bmis, patient_children, patient_smoker, patient_regions, patient_charges):\n",
    "        self.patient_ages = patient_ages\n",
    "        self.patient_sexes = patient_sexes\n",
    "        self.patient_bmis = patient_bmis\n",
    "        self.patient_children = patient_children\n",
    "        self.patient_smoker = patient_smoker\n",
    "        self.patient_regions = patient_regions\n",
    "        self.patient_charges = patient_charges\n",
    "\n",
    "    def region_average_ages(self, region):\n",
    "        count = 0\n",
    "        total = 0\n",
    "        for patient_age, patient_region in zip(self.patient_ages, self.patient_regions):\n",
    "            if patient_region == region:\n",
    "                total += int(patient_age)\n",
    "                count += 1\n",
    "        return round(total / count, 2)\n",
    "    \n",
    "    def region_average_bmis(self, region):\n",
    "        count = 0\n",
    "        total = 0\n",
    "        for patient_bmi, patient_region in zip(self.patient_bmis, self.patient_regions):\n",
    "            if patient_region == region:\n",
    "                total += float(patient_bmi)\n",
    "                count += 1\n",
    "        return round(total / count, 2)\n",
    "    \n",
    "    def percent_smoker_status(self, region):\n",
    "        count = 0\n",
    "        for smoker, patient_region in zip(self.patient_smoker, self.patient_regions):\n",
    "            if patient_region == region:\n",
    "                if smoker == \"yes\":\n",
    "                    count += 1\n",
    "        return round(count / len(self.patient_smoker) * 100, 2)\n",
    "    \n",
    "    def region_average_children(self, region):\n",
    "        count = 0\n",
    "        total = 0\n",
    "        for children, patient_region in zip(self.patient_children, self.patient_regions):\n",
    "            if patient_region == region:\n",
    "                total += int(children)\n",
    "                count += 1\n",
    "        return round(total / count, 2)\n",
    "    \n",
    "    def region_average_charges(self, region):\n",
    "        count = 0\n",
    "        total = 0\n",
    "        for costs, patient_region in zip(self.patient_charges, self.patient_regions):\n",
    "            if patient_region == region:\n",
    "                total += float(costs)\n",
    "                count += 1\n",
    "        return round(total / count, 2)\n",
    "    \n",
    "    def age_charges_correlation(self, region):\n",
    "        # convert numerical values to int and float\n",
    "        age_list = [int(age) for age, patient_region in zip(self.patient_ages, self.patient_regions) if patient_region == region]\n",
    "        charge_list = [float(charge) for charge, patient_region in zip(self.patient_charges, self.patient_regions) if patient_region == region]\n",
    "        # make numpy arrays\n",
    "        age_array = np.array(age_list)\n",
    "        charges_array = np.array(charge_list)\n",
    "        # calculate correlation coefficient\n",
    "        rho = np.corrcoef(age_array, charges_array)\n",
    "        print(\"Correlation coefficient between age and insurance charges for region {} = \".format(region.title()) + str(round(rho.tolist()[0][1], 3)))\n",
    "    \n",
    "    def generate_regional_statistics(self):\n",
    "        regional_statistics = {}\n",
    "        for region in self.patient_regions:\n",
    "            if region not in regional_statistics:\n",
    "                regional_statistics[(region.title())] = {\"Average age\": self.region_average_ages(region), \"Average BMI\": self.region_average_bmis(region), \"Average Number of Children\": self.region_average_children(region), \"Percent smokers\": self.percent_smoker_status(region), \"Average Charges\": self.region_average_charges(region)}\n",
    "        return regional_statistics"
   ]
  },
  {
   "cell_type": "code",
   "execution_count": 176,
   "metadata": {},
   "outputs": [],
   "source": [
    "patient_info = PatientsInfo(ages, sexes, bmis, num_children, smoker_status, regions, insurance_charges)"
   ]
  },
  {
   "cell_type": "code",
   "execution_count": 136,
   "metadata": {},
   "outputs": [
    {
     "data": {
      "text/plain": [
       "{'Southwest': {'Average age': 39.46,\n",
       "  'Average BMI': 30.6,\n",
       "  'Average Number of Children': 1.14,\n",
       "  'Percent smokers': 4.33,\n",
       "  'Average Charges': 12346.94},\n",
       " 'Southeast': {'Average age': 38.94,\n",
       "  'Average BMI': 33.36,\n",
       "  'Average Number of Children': 1.05,\n",
       "  'Percent smokers': 6.8,\n",
       "  'Average Charges': 14735.41},\n",
       " 'Northwest': {'Average age': 39.2,\n",
       "  'Average BMI': 29.2,\n",
       "  'Average Number of Children': 1.15,\n",
       "  'Percent smokers': 4.33,\n",
       "  'Average Charges': 12417.58},\n",
       " 'Northeast': {'Average age': 39.27,\n",
       "  'Average BMI': 29.17,\n",
       "  'Average Number of Children': 1.05,\n",
       "  'Percent smokers': 5.01,\n",
       "  'Average Charges': 13406.38}}"
      ]
     },
     "execution_count": 136,
     "metadata": {},
     "output_type": "execute_result"
    }
   ],
   "source": [
    "patient_info.generate_regional_statistics()"
   ]
  },
  {
   "cell_type": "code",
   "execution_count": 177,
   "metadata": {},
   "outputs": [
    {
     "name": "stdout",
     "output_type": "stream",
     "text": [
      "Correlation coefficient between age and insurance charges for region Northeast = 0.301\n",
      "Correlation coefficient between age and insurance charges for region Southeast = 0.311\n",
      "Correlation coefficient between age and insurance charges for region Northwest = 0.338\n",
      "Correlation coefficient between age and insurance charges for region Southwest = 0.258\n"
     ]
    }
   ],
   "source": [
    "patient_info.age_charges_correlation('northeast')\n",
    "patient_info.age_charges_correlation('southeast')\n",
    "patient_info.age_charges_correlation('northwest')\n",
    "patient_info.age_charges_correlation('southwest')"
   ]
  },
  {
   "cell_type": "code",
   "execution_count": null,
   "metadata": {},
   "outputs": [],
   "source": []
  }
 ],
 "metadata": {
  "kernelspec": {
   "display_name": "Python 3",
   "language": "python",
   "name": "python3"
  },
  "language_info": {
   "codemirror_mode": {
    "name": "ipython",
    "version": 3
   },
   "file_extension": ".py",
   "mimetype": "text/x-python",
   "name": "python",
   "nbconvert_exporter": "python",
   "pygments_lexer": "ipython3",
   "version": "3.9.1"
  }
 },
 "nbformat": 4,
 "nbformat_minor": 4
}
